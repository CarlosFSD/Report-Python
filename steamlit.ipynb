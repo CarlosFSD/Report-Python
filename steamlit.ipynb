{
 "cells": [
  {
   "cell_type": "code",
   "execution_count": 1,
   "metadata": {},
   "outputs": [
    {
     "name": "stderr",
     "output_type": "stream",
     "text": [
      "2024-11-28 05:43:53.067 WARNING streamlit.runtime.scriptrunner_utils.script_run_context: Thread 'MainThread': missing ScriptRunContext! This warning can be ignored when running in bare mode.\n",
      "2024-11-28 05:43:53.069 WARNING streamlit.runtime.scriptrunner_utils.script_run_context: Thread 'MainThread': missing ScriptRunContext! This warning can be ignored when running in bare mode.\n",
      "2024-11-28 05:43:53.165 \n",
      "  \u001b[33m\u001b[1mWarning:\u001b[0m to view this Streamlit app on a browser, run it with the following\n",
      "  command:\n",
      "\n",
      "    streamlit run c:\\Users\\carlo\\AppData\\Local\\Programs\\Python\\Python311\\Lib\\site-packages\\ipykernel_launcher.py [ARGUMENTS]\n",
      "2024-11-28 05:43:53.167 Thread 'MainThread': missing ScriptRunContext! This warning can be ignored when running in bare mode.\n",
      "2024-11-28 05:43:53.168 Thread 'MainThread': missing ScriptRunContext! This warning can be ignored when running in bare mode.\n",
      "2024-11-28 05:43:53.169 Thread 'MainThread': missing ScriptRunContext! This warning can be ignored when running in bare mode.\n",
      "2024-11-28 05:43:53.212 Thread 'MainThread': missing ScriptRunContext! This warning can be ignored when running in bare mode.\n",
      "2024-11-28 05:43:53.556 Thread 'MainThread': missing ScriptRunContext! This warning can be ignored when running in bare mode.\n",
      "2024-11-28 05:43:53.558 Thread 'MainThread': missing ScriptRunContext! This warning can be ignored when running in bare mode.\n",
      "2024-11-28 05:43:53.560 Thread 'MainThread': missing ScriptRunContext! This warning can be ignored when running in bare mode.\n",
      "2024-11-28 05:43:53.561 Thread 'MainThread': missing ScriptRunContext! This warning can be ignored when running in bare mode.\n",
      "2024-11-28 05:43:53.581 Thread 'MainThread': missing ScriptRunContext! This warning can be ignored when running in bare mode.\n",
      "2024-11-28 05:43:53.581 Thread 'MainThread': missing ScriptRunContext! This warning can be ignored when running in bare mode.\n",
      "2024-11-28 05:43:53.582 Thread 'MainThread': missing ScriptRunContext! This warning can be ignored when running in bare mode.\n",
      "2024-11-28 05:43:53.582 Thread 'MainThread': missing ScriptRunContext! This warning can be ignored when running in bare mode.\n",
      "2024-11-28 05:43:53.583 Thread 'MainThread': missing ScriptRunContext! This warning can be ignored when running in bare mode.\n",
      "2024-11-28 05:43:53.584 Thread 'MainThread': missing ScriptRunContext! This warning can be ignored when running in bare mode.\n",
      "2024-11-28 05:43:53.585 Thread 'MainThread': missing ScriptRunContext! This warning can be ignored when running in bare mode.\n",
      "2024-11-28 05:43:53.586 Thread 'MainThread': missing ScriptRunContext! This warning can be ignored when running in bare mode.\n",
      "2024-11-28 05:43:53.587 Thread 'MainThread': missing ScriptRunContext! This warning can be ignored when running in bare mode.\n",
      "2024-11-28 05:43:53.588 Thread 'MainThread': missing ScriptRunContext! This warning can be ignored when running in bare mode.\n",
      "2024-11-28 05:43:53.594 Session state does not function when running a script without `streamlit run`\n",
      "2024-11-28 05:43:53.596 Thread 'MainThread': missing ScriptRunContext! This warning can be ignored when running in bare mode.\n",
      "2024-11-28 05:43:53.599 Thread 'MainThread': missing ScriptRunContext! This warning can be ignored when running in bare mode.\n",
      "2024-11-28 05:43:53.602 Thread 'MainThread': missing ScriptRunContext! This warning can be ignored when running in bare mode.\n",
      "2024-11-28 05:43:53.603 Thread 'MainThread': missing ScriptRunContext! This warning can be ignored when running in bare mode.\n",
      "2024-11-28 05:43:53.604 Thread 'MainThread': missing ScriptRunContext! This warning can be ignored when running in bare mode.\n",
      "2024-11-28 05:43:53.606 Thread 'MainThread': missing ScriptRunContext! This warning can be ignored when running in bare mode.\n"
     ]
    }
   ],
   "source": [
    "import streamlit as st\n",
    "import matplotlib.pyplot as plt\n",
    "import folium\n",
    "from streamlit_folium import st_folium\n",
    "\n",
    "# Título del dashboard\n",
    "st.title(\"Dashboard interactivo con Matplotlib y Folium\")\n",
    "\n",
    "# Sección de gráficos de Matplotlib\n",
    "st.subheader(\"Gráfico interactivo\")\n",
    "x = [1, 2, 3, 4, 5]\n",
    "y = [10, 20, 30, 40, 50]\n",
    "\n",
    "fig, ax = plt.subplots()\n",
    "ax.plot(x, y, marker='o', linestyle='-', color='b', label='Datos de ejemplo')\n",
    "ax.set_title(\"Gráfico de ejemplo\")\n",
    "ax.set_xlabel(\"Eje X\")\n",
    "ax.set_ylabel(\"Eje Y\")\n",
    "ax.legend()\n",
    "\n",
    "st.pyplot(fig)  # Mostrar gráfico en Streamlit\n",
    "\n",
    "# Sección de mapas interactivos con Folium\n",
    "st.subheader(\"Mapa interactivo\")\n",
    "mapa = folium.Map(location=[19.4326, -99.1332], zoom_start=10)  # Ciudad de México\n",
    "folium.Marker([19.4326, -99.1332], popup=\"CDMX\").add_to(mapa)\n",
    "\n",
    "# Mostrar mapa en Streamlit\n",
    "st_folium(mapa, width=700, height=500)\n",
    "\n",
    "# Agregar widgets interactivos\n",
    "st.sidebar.header(\"Opciones de usuario\")\n",
    "opcion = st.sidebar.selectbox(\"Selecciona una opción:\", [\"Gráfico\", \"Mapa\", \"Ambos\"])\n",
    "st.write(f\"Mostrando: {opcion}\")\n"
   ]
  },
  {
   "cell_type": "code",
   "execution_count": null,
   "metadata": {},
   "outputs": [],
   "source": []
  }
 ],
 "metadata": {
  "kernelspec": {
   "display_name": "Python 3",
   "language": "python",
   "name": "python3"
  },
  "language_info": {
   "codemirror_mode": {
    "name": "ipython",
    "version": 3
   },
   "file_extension": ".py",
   "mimetype": "text/x-python",
   "name": "python",
   "nbconvert_exporter": "python",
   "pygments_lexer": "ipython3",
   "version": "3.11.4"
  }
 },
 "nbformat": 4,
 "nbformat_minor": 2
}
